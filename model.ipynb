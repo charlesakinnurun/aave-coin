{
 "cells": [
  {
   "cell_type": "markdown",
   "id": "9a825518",
   "metadata": {},
   "source": [
    "Import the neccessary libraries"
   ]
  },
  {
   "cell_type": "code",
   "execution_count": 37,
   "id": "f266fbcf",
   "metadata": {},
   "outputs": [],
   "source": [
    "import pandas as pd\n",
    "import numpy as np\n",
    "import matplotlib.pyplot as plt\n",
    "from sklearn.model_selection import train_test_split\n",
    "from sklearn.linear_model import LinearRegression,Ridge,Lasso,ElasticNet\n",
    "from sklearn.svm import SVR\n",
    "from sklearn.preprocessing import StandardScaler\n",
    "from sklearn.metrics import mean_absolute_error,mean_squared_error,r2_score\n",
    "import matplotlib.pyplot as plt"
   ]
  },
  {
   "cell_type": "markdown",
   "id": "b71be564",
   "metadata": {},
   "source": [
    "Data Loading"
   ]
  },
  {
   "cell_type": "code",
   "execution_count": 38,
   "id": "289f36d9",
   "metadata": {},
   "outputs": [
    {
     "name": "stdout",
     "output_type": "stream",
     "text": [
      "Data loaded successfully!\n"
     ]
    },
    {
     "data": {
      "text/html": [
       "<div>\n",
       "<style scoped>\n",
       "    .dataframe tbody tr th:only-of-type {\n",
       "        vertical-align: middle;\n",
       "    }\n",
       "\n",
       "    .dataframe tbody tr th {\n",
       "        vertical-align: top;\n",
       "    }\n",
       "\n",
       "    .dataframe thead th {\n",
       "        text-align: right;\n",
       "    }\n",
       "</style>\n",
       "<table border=\"1\" class=\"dataframe\">\n",
       "  <thead>\n",
       "    <tr style=\"text-align: right;\">\n",
       "      <th></th>\n",
       "      <th>SNo</th>\n",
       "      <th>Name</th>\n",
       "      <th>Symbol</th>\n",
       "      <th>Date</th>\n",
       "      <th>High</th>\n",
       "      <th>Low</th>\n",
       "      <th>Open</th>\n",
       "      <th>Close</th>\n",
       "      <th>Volume</th>\n",
       "      <th>Marketcap</th>\n",
       "    </tr>\n",
       "  </thead>\n",
       "  <tbody>\n",
       "    <tr>\n",
       "      <th>0</th>\n",
       "      <td>1</td>\n",
       "      <td>Aave</td>\n",
       "      <td>AAVE</td>\n",
       "      <td>2020-10-05 23:59:59</td>\n",
       "      <td>55.112358</td>\n",
       "      <td>49.787900</td>\n",
       "      <td>52.675035</td>\n",
       "      <td>53.219243</td>\n",
       "      <td>0.000000e+00</td>\n",
       "      <td>8.912813e+07</td>\n",
       "    </tr>\n",
       "    <tr>\n",
       "      <th>1</th>\n",
       "      <td>2</td>\n",
       "      <td>Aave</td>\n",
       "      <td>AAVE</td>\n",
       "      <td>2020-10-06 23:59:59</td>\n",
       "      <td>53.402270</td>\n",
       "      <td>40.734578</td>\n",
       "      <td>53.291969</td>\n",
       "      <td>42.401599</td>\n",
       "      <td>5.830915e+05</td>\n",
       "      <td>7.101144e+07</td>\n",
       "    </tr>\n",
       "    <tr>\n",
       "      <th>2</th>\n",
       "      <td>3</td>\n",
       "      <td>Aave</td>\n",
       "      <td>AAVE</td>\n",
       "      <td>2020-10-07 23:59:59</td>\n",
       "      <td>42.408314</td>\n",
       "      <td>35.970690</td>\n",
       "      <td>42.399947</td>\n",
       "      <td>40.083976</td>\n",
       "      <td>6.828342e+05</td>\n",
       "      <td>6.713004e+07</td>\n",
       "    </tr>\n",
       "    <tr>\n",
       "      <th>3</th>\n",
       "      <td>4</td>\n",
       "      <td>Aave</td>\n",
       "      <td>AAVE</td>\n",
       "      <td>2020-10-08 23:59:59</td>\n",
       "      <td>44.902511</td>\n",
       "      <td>36.696057</td>\n",
       "      <td>39.885262</td>\n",
       "      <td>43.764463</td>\n",
       "      <td>1.658817e+06</td>\n",
       "      <td>2.202651e+08</td>\n",
       "    </tr>\n",
       "    <tr>\n",
       "      <th>4</th>\n",
       "      <td>5</td>\n",
       "      <td>Aave</td>\n",
       "      <td>AAVE</td>\n",
       "      <td>2020-10-09 23:59:59</td>\n",
       "      <td>47.569533</td>\n",
       "      <td>43.291776</td>\n",
       "      <td>43.764463</td>\n",
       "      <td>46.817744</td>\n",
       "      <td>8.155377e+05</td>\n",
       "      <td>2.356322e+08</td>\n",
       "    </tr>\n",
       "  </tbody>\n",
       "</table>\n",
       "</div>"
      ],
      "text/plain": [
       "   SNo  Name Symbol                 Date       High        Low       Open  \\\n",
       "0    1  Aave   AAVE  2020-10-05 23:59:59  55.112358  49.787900  52.675035   \n",
       "1    2  Aave   AAVE  2020-10-06 23:59:59  53.402270  40.734578  53.291969   \n",
       "2    3  Aave   AAVE  2020-10-07 23:59:59  42.408314  35.970690  42.399947   \n",
       "3    4  Aave   AAVE  2020-10-08 23:59:59  44.902511  36.696057  39.885262   \n",
       "4    5  Aave   AAVE  2020-10-09 23:59:59  47.569533  43.291776  43.764463   \n",
       "\n",
       "       Close        Volume     Marketcap  \n",
       "0  53.219243  0.000000e+00  8.912813e+07  \n",
       "1  42.401599  5.830915e+05  7.101144e+07  \n",
       "2  40.083976  6.828342e+05  6.713004e+07  \n",
       "3  43.764463  1.658817e+06  2.202651e+08  \n",
       "4  46.817744  8.155377e+05  2.356322e+08  "
      ]
     },
     "execution_count": 38,
     "metadata": {},
     "output_type": "execute_result"
    }
   ],
   "source": [
    "try:\n",
    "    df = pd.read_csv(\"coin_Aave.csv\")\n",
    "    print(\"Data loaded successfully!\")\n",
    "except FileNotFoundError:\n",
    "    print(\"Error: The file 'coin_Aave.csv' was not found. Please make sure it is in the same directory\")\n",
    "    exit()\n",
    "df.head()"
   ]
  },
  {
   "cell_type": "markdown",
   "id": "12907ae6",
   "metadata": {},
   "source": [
    "Data Preprocessing"
   ]
  },
  {
   "cell_type": "code",
   "execution_count": 39,
   "id": "5a29c865",
   "metadata": {},
   "outputs": [
    {
     "name": "stdout",
     "output_type": "stream",
     "text": [
      "Missing Values\n",
      "SNo          0\n",
      "Name         0\n",
      "Symbol       0\n",
      "Date         0\n",
      "High         0\n",
      "Low          0\n",
      "Open         0\n",
      "Close        0\n",
      "Volume       0\n",
      "Marketcap    0\n",
      "dtype: int64\n",
      "Duplicated Rows\n",
      "0\n"
     ]
    }
   ],
   "source": [
    "# Check for missing value\n",
    "df_missing = df.isnull().sum()\n",
    "print(\"Missing Values\")\n",
    "print(df_missing)\n",
    "\n",
    "# Check for duplicated rows\n",
    "df_duplicated = df.duplicated().sum()\n",
    "print(\"Duplicated Rows\")\n",
    "print(df_duplicated)\n",
    "\n",
    "# Rename the columns for clarity and consistency\n",
    "df.rename(columns={\n",
    "    \"SNo\":\"serial_number\",\n",
    "    \"Name\":\"name\",\n",
    "    \"Symbol\":\"symbol\",\n",
    "    \"Date\":\"date\",\n",
    "    \"High\":\"high\",\n",
    "    \"Low\":\"low\",\n",
    "    \"Open\":\"open\",\n",
    "    \"Close\":\"close\",\n",
    "    \"Volume\":\"volume\",\n",
    "    \"Marketcap\":\"marketcap\"\n",
    "},inplace=True)\n",
    "\n",
    "# Convert the data to a simple numerical ordinal value for the model to use\n",
    "df[\"date\"] = pd.to_datetime(df[\"date\"]).apply(lambda x: x.toordinal())"
   ]
  },
  {
   "cell_type": "markdown",
   "id": "dc65d829",
   "metadata": {},
   "source": [
    "Feature Engineering"
   ]
  },
  {
   "cell_type": "code",
   "execution_count": 40,
   "id": "6915ed39",
   "metadata": {},
   "outputs": [],
   "source": [
    "# We define our features (X) and our target (y)\n",
    "# The features are the columns we will use to make predictions\n",
    "# The target is the column we want to predict (\"close\")\n",
    "\n",
    "features = [\"high\",\"low\",\"open\",\"volume\"]\n",
    "target = \"close\"\n",
    "\n",
    "# Define the feature (X) and the target (y)\n",
    "b = df[\"high\"]\n",
    "\n",
    "X = df[features]\n",
    "y = df[target]"
   ]
  },
  {
   "cell_type": "markdown",
   "id": "6794a259",
   "metadata": {},
   "source": [
    "Data Splitting"
   ]
  },
  {
   "cell_type": "code",
   "execution_count": 41,
   "id": "16729fdf",
   "metadata": {},
   "outputs": [],
   "source": [
    "X_train,X_test,y_train,y_test = train_test_split(X,y,test_size=0.2,random_state=42)"
   ]
  },
  {
   "cell_type": "markdown",
   "id": "1a0af30b",
   "metadata": {},
   "source": [
    "Data Scaling"
   ]
  },
  {
   "cell_type": "code",
   "execution_count": 42,
   "id": "27dff51c",
   "metadata": {},
   "outputs": [],
   "source": [
    "scaler = StandardScaler()\n",
    "X_train_scaled = scaler.fit_transform(X_train)\n",
    "X_test_scaled = scaler.fit_transform(X_test)"
   ]
  },
  {
   "cell_type": "markdown",
   "id": "bd48a96f",
   "metadata": {},
   "source": [
    "Model Training"
   ]
  },
  {
   "cell_type": "code",
   "execution_count": 43,
   "id": "08e6b022",
   "metadata": {},
   "outputs": [],
   "source": [
    "# We will create a dictionaty to store our models and their names\n",
    "\n",
    "models = {\n",
    "    \"Linear Regression\": LinearRegression(),\n",
    "    \"Ridge Regression\": Ridge(),\n",
    "    \"Lasso Regression\": Lasso(alpha=0.1), # alpha is a regularization paramet\n",
    "    \"ElasticNet Regression\":ElasticNet(alpha=0.1,l1_ratio=0.5),\n",
    "    \"SVR\": SVR(kernel=\"rbf\") # SVR with a radical basis function kernel\n",
    "}\n",
    "\n",
    "# We'll store the results for comparison\n",
    "results = {}"
   ]
  },
  {
   "cell_type": "markdown",
   "id": "826c875e",
   "metadata": {},
   "source": [
    "Model Evaluation"
   ]
  },
  {
   "cell_type": "code",
   "execution_count": 44,
   "id": "7d5ca4aa",
   "metadata": {},
   "outputs": [
    {
     "name": "stdout",
     "output_type": "stream",
     "text": [
      "-----Model Evaluation-----\n",
      "Training Linear Regression....\n",
      "Mean Absolute Error (MAE): 8.36\n",
      "Mean Squared Error (MSE): 199.22\n",
      "R-Squared: 0.99\n",
      "Training Ridge Regression....\n",
      "Mean Absolute Error (MAE): 9.00\n",
      "Mean Squared Error (MSE): 190.35\n",
      "R-Squared: 0.99\n",
      "Training Lasso Regression....\n",
      "Mean Absolute Error (MAE): 8.62\n",
      "Mean Squared Error (MSE): 196.90\n",
      "R-Squared: 0.99\n",
      "Training ElasticNet Regression....\n",
      "Mean Absolute Error (MAE): 9.61\n",
      "Mean Squared Error (MSE): 217.72\n",
      "R-Squared: 0.99\n",
      "Training SVR....\n",
      "Mean Absolute Error (MAE): 93.28\n",
      "Mean Squared Error (MSE): 11850.82\n",
      "R-Squared: 0.56\n"
     ]
    }
   ],
   "source": [
    "print(\"-----Model Evaluation-----\")\n",
    "for name, model in models.items():\n",
    "    print(f\"Training {name}....\")\n",
    "    model.fit(X_train_scaled, y_train)\n",
    "    y_pred = model.predict(X_test_scaled)\n",
    "\n",
    "    # Calculate evaluation metrics\n",
    "    mae = mean_absolute_error(y_test, y_pred)\n",
    "    mse = mean_squared_error(y_test, y_pred)\n",
    "    r2 = r2_score(y_test, y_pred)\n",
    "\n",
    "    # Store the Results\n",
    "    results[name] = {\"MAE\": mae, \"MSE\": mse, \"R2\": r2}\n",
    "\n",
    "    # Print the Results\n",
    "    print(f\"Mean Absolute Error (MAE): {mae:.2f}\")\n",
    "    print(f\"Mean Squared Error (MSE): {mse:.2f}\")\n",
    "    print(f\"R-Squared: {r2:.2f}\")"
   ]
  },
  {
   "cell_type": "markdown",
   "id": "b23a9e53",
   "metadata": {},
   "source": [
    "Find the Best Model"
   ]
  },
  {
   "cell_type": "code",
   "execution_count": 45,
   "id": "f7584cd2",
   "metadata": {},
   "outputs": [
    {
     "name": "stdout",
     "output_type": "stream",
     "text": [
      "Model Comparison Summary\n",
      "The best performing model is Ridge Regression\n",
      "It achieved an R-squared score of 0.99\n"
     ]
    }
   ],
   "source": [
    "# We find the best model based on the R-squared value, which indicates how\n",
    "# well the model explains the variance in the data (closer to 1 is better)\n",
    "\n",
    "best_model_name = \"\"\n",
    "best_r2 = -np.inf\n",
    "\n",
    "for name,metrics in results.items():\n",
    "    if metrics[\"R2\"] > best_r2:\n",
    "        best_r2 = metrics[\"R2\"]\n",
    "        best_model_name = name\n",
    "\n",
    "print(\"Model Comparison Summary\")\n",
    "print(f\"The best performing model is {best_model_name}\")\n",
    "print(f\"It achieved an R-squared score of {best_r2:.2f}\")"
   ]
  },
  {
   "cell_type": "markdown",
   "id": "1c938c76",
   "metadata": {},
   "source": [
    "Visualization of Results"
   ]
  },
  {
   "cell_type": "code",
   "execution_count": 46,
   "id": "02af32ed",
   "metadata": {},
   "outputs": [
    {
     "data": {
      "image/png": "[encoded data removed]",
      "text/plain": [
       "<Figure size 1000x600 with 1 Axes>"
      ]
     },
     "metadata": {},
     "output_type": "display_data"
    }
   ],
   "source": [
    "fig,ax = plt.subplots(figsize=(10,6))\n",
    "model_names = list(results.keys())\n",
    "r2_scores = [results[name][\"R2\"] for name in model_names]\n",
    "plt.bar(model_names,r2_scores,color=\"red\")\n",
    "plt.ylabel(\"$R^2$ Score\")\n",
    "plt.title(\"R-Squared Score Comparison of Regression Models\")\n",
    "plt.ylim(0,1) # R2 Score is between 0 and 1\n",
    "plt.xticks(rotation=45,ha=\"right\")\n",
    "plt.tight_layout()\n",
    "plt.show()"
   ]
  },
  {
   "cell_type": "markdown",
   "id": "4ad5f708",
   "metadata": {},
   "source": [
    "Use the Best Model for Prediction based on User Input"
   ]
  },
  {
   "cell_type": "code",
   "execution_count": 47,
   "id": "016d26eb",
   "metadata": {},
   "outputs": [
    {
     "name": "stdout",
     "output_type": "stream",
     "text": [
      "Interactive Prediction using Ridge Regression\n",
      "Enter the following values to predict the Close price of Aave Coin\n"
     ]
    }
   ],
   "source": [
    "# This part of the code prompts the user to input values for all features to make a prediction\n",
    "print(\"Interactive Prediction using Ridge Regression\")\n",
    "print(\"Enter the following values to predict the Close price of Aave Coin\")\n",
    "\n",
    "while True:\n",
    "    try:\n",
    "        high_price_input = input(\"Enter the High Price (or type 'exit' to quit):\")\n",
    "        if high_price_input == \"exit\":\n",
    "            break\n",
    "        high_price = float(high_price_input)\n",
    "        low_price = float(input(\"Enter the Low Price:\"))\n",
    "        open_price = float(input(\"Enter the Open Price:\"))\n",
    "        volume_price = float(input(\"Enter the Trading Volume:\"))\n",
    "\n",
    "        # We must reshape the input to a 2D array for a single sample\n",
    "        new_prices = np.array([[high_price,low_price,open_price,volume_price]])\n",
    "\n",
    "        predicted_new_prices = models[\"Ridge Regression\"].predict(new_prices)\n",
    "\n",
    "        print(f\"For the given prices, the predicted Close price is:{predicted_new_prices[0]:.5f}\")\n",
    "    except ValueError:\n",
    "        print(\"Invalid input. Please enter valid numbers\")"
   ]
  }
 ],
 "metadata": {
  "kernelspec": {
   "display_name": "Python 3",
   "language": "python",
   "name": "python3"
  },
  "language_info": {
   "codemirror_mode": {
    "name": "ipython",
    "version": 3
   },
   "file_extension": ".py",
   "mimetype": "text/x-python",
   "name": "python",
   "nbconvert_exporter": "python",
   "pygments_lexer": "ipython3",
   "version": "3.13.3"
  }
 },
 "nbformat": 4,
 "nbformat_minor": 5
}
